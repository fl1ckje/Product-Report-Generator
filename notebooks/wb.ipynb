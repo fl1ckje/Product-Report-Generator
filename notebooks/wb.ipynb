{
 "cells": [
  {
   "cell_type": "code",
   "execution_count": null,
   "id": "e30fbba3",
   "metadata": {},
   "outputs": [],
   "source": [
    "from os import getcwd\n",
    "import pandas as pd\n",
    "from pathlib import Path\n",
    "import numpy as np"
   ]
  },
  {
   "cell_type": "code",
   "execution_count": null,
   "id": "4eed3321",
   "metadata": {},
   "outputs": [],
   "source": [
    "files = list(Path(getcwd().replace('notebooks', ''), 'test_data', 'wb').glob('*.xlsx'))\n",
    "for f in files: print(f)"
   ]
  },
  {
   "cell_type": "code",
   "execution_count": null,
   "id": "67d6d7d2",
   "metadata": {},
   "outputs": [],
   "source": [
    "dfs = []\n",
    "for f in files:\n",
    "    df = pd.read_excel(f, engine='calamine', date_format='YYYY-MM-DD')\n",
    "    dfs.append(df)\n",
    "df = pd.concat(dfs, ignore_index=True)\n",
    "df = df.replace(np.nan, '')\n",
    "df"
   ]
  },
  {
   "cell_type": "code",
   "execution_count": null,
   "id": "f7148eb1",
   "metadata": {},
   "outputs": [],
   "source": [
    "\n",
    "df = df[df['Название'] != np.nan]\n",
    "sale_groups = df[df['Обоснование для оплаты']\n",
    "                 == 'Продажа'].groupby('Название')\n",
    "logistics_groups = df[df['Обоснование для оплаты'] == 'Логистика'].groupby('Название')\n",
    "keeping_groups = df[df['Обоснование для оплаты'] == 'Хранение'].groupby('Название')\n",
    "second_sale_groups = df[df['Тип документа'] == 'Продажа'].groupby('Название')\n",
    "result = []\n",
    "for name, grp in sale_groups:\n",
    "    article = grp['Артикул поставщика'].iloc[0] if grp['Артикул поставщика'].iloc[0] != 0 else ''\n",
    "    result.append({\n",
    "        'Наименование товара': grp['Название'].iloc[0],\n",
    "        'Артикул': grp['Артикул поставщика'].iloc[0],\n",
    "        'Размер': grp['Размер'].iloc[0],\n",
    "        'Количество продаж': grp['Кол-во'].sum(),\n",
    "        'Средняя цена продажи': round(grp['Цена розничная'].mean(), 2),\n",
    "        'Комиссия МП': round(grp['Цена розничная'].mean(), 2) - round(grp['К перечислению Продавцу за реализованный Товар'].mean(), 2),\n",
    "        'Логистика': logistics_groups['Услуги по доставке товара покупателю'].sum()[name] / grp['Кол-во'].sum()\n",
    "    })"
   ]
  },
  {
   "cell_type": "code",
   "execution_count": null,
   "id": "0e43e287",
   "metadata": {},
   "outputs": [],
   "source": [
    "pd.DataFrame(result)"
   ]
  }
 ],
 "metadata": {
  "kernelspec": {
   "display_name": "Python 3",
   "language": "python",
   "name": "python3"
  },
  "language_info": {
   "codemirror_mode": {
    "name": "ipython",
    "version": 3
   },
   "file_extension": ".py",
   "mimetype": "text/x-python",
   "name": "python",
   "nbconvert_exporter": "python",
   "pygments_lexer": "ipython3",
   "version": "3.12.10"
  }
 },
 "nbformat": 4,
 "nbformat_minor": 5
}
