{
 "cells": [
  {
   "cell_type": "code",
   "execution_count": 1,
   "id": "e30fbba3",
   "metadata": {},
   "outputs": [],
   "source": [
    "from os import getcwd\n",
    "import pandas as pd\n",
    "from pathlib import Path\n",
    "import numpy as np"
   ]
  },
  {
   "cell_type": "code",
   "execution_count": 2,
   "id": "4eed3321",
   "metadata": {},
   "outputs": [
    {
     "name": "stdout",
     "output_type": "stream",
     "text": [
      "c:\\Product-Report-Generator\\test_data\\wb\\0.xlsx\n",
      "c:\\Product-Report-Generator\\test_data\\wb\\1.xlsx\n"
     ]
    }
   ],
   "source": [
    "files = list(Path(getcwd().replace('notebooks', ''), 'test_data', 'wb').glob('*.xlsx'))\n",
    "for f in files: print(f)"
   ]
  },
  {
   "cell_type": "code",
   "execution_count": 3,
   "id": "67d6d7d2",
   "metadata": {},
   "outputs": [],
   "source": [
    "dfs = []\n",
    "for f in files:\n",
    "    df = pd.read_excel(f, engine='calamine', date_format='YYYY-MM-DD')\n",
    "    dfs.append(df)\n",
    "df = pd.concat(dfs, ignore_index=True)"
   ]
  },
  {
   "cell_type": "code",
   "execution_count": 4,
   "id": "f7148eb1",
   "metadata": {},
   "outputs": [],
   "source": [
    "df = df.replace(np.nan, 0)\n",
    "df = df[df['Название'] != np.nan]\n",
    "sale_groups = df[df['Обоснование для оплаты']\n",
    "                 == 'Продажа'].groupby('Название')\n",
    "logistics_groups = df[df['Обоснование для оплаты'] == 'Логистика'].groupby('Название')\n",
    "keeping_groups = df[df['Обоснование для оплаты'] == 'Хранение'].groupby('Название')\n",
    "second_sale_groups = df[df['Тип документа'] == 'Продажа'].groupby('Название')\n",
    "result = []\n",
    "for name, grp in sale_groups:\n",
    "    article = grp['Артикул поставщика'].iloc[0] if grp['Артикул поставщика'].iloc[0] != 0 else ''\n",
    "    result.append({\n",
    "        'Наименование товара': grp['Название'].iloc[0],\n",
    "        'Артикул': grp['Артикул поставщика'].iloc[0],\n",
    "        'Размер': grp['Размер'].iloc[0],\n",
    "        'Количество продаж': grp['Кол-во'].sum(),\n",
    "        'Средняя цена продажи': round(grp['Цена розничная'].mean(), 2),\n",
    "        'Комиссия МП': round(grp['Цена розничная'].mean(), 2) - round(grp['К перечислению Продавцу за реализованный Товар'].mean(), 2),\n",
    "        'Логистика': logistics_groups['Услуги по доставке товара покупателю'].sum()[name] / grp['Кол-во'].sum()\n",
    "    })"
   ]
  },
  {
   "cell_type": "code",
   "execution_count": 7,
   "id": "0e43e287",
   "metadata": {},
   "outputs": [
    {
     "data": {
      "text/html": [
       "<div>\n",
       "<style scoped>\n",
       "    .dataframe tbody tr th:only-of-type {\n",
       "        vertical-align: middle;\n",
       "    }\n",
       "\n",
       "    .dataframe tbody tr th {\n",
       "        vertical-align: top;\n",
       "    }\n",
       "\n",
       "    .dataframe thead th {\n",
       "        text-align: right;\n",
       "    }\n",
       "</style>\n",
       "<table border=\"1\" class=\"dataframe\">\n",
       "  <thead>\n",
       "    <tr style=\"text-align: right;\">\n",
       "      <th></th>\n",
       "      <th>Наименование товара</th>\n",
       "      <th>Артикул</th>\n",
       "      <th>Размер</th>\n",
       "      <th>Количество продаж</th>\n",
       "      <th>Средняя цена продажи</th>\n",
       "      <th>Комиссия МП</th>\n",
       "      <th>Логистика</th>\n",
       "    </tr>\n",
       "  </thead>\n",
       "  <tbody>\n",
       "    <tr>\n",
       "      <th>0</th>\n",
       "      <td>Блуза лён бежевый с вышивкой</td>\n",
       "      <td>60001071</td>\n",
       "      <td>146.0</td>\n",
       "      <td>1.0</td>\n",
       "      <td>1832.0</td>\n",
       "      <td>472.02</td>\n",
       "      <td>63.0</td>\n",
       "    </tr>\n",
       "    <tr>\n",
       "      <th>1</th>\n",
       "      <td>Брюки лён голубые</td>\n",
       "      <td>брюкиленголубые</td>\n",
       "      <td>146.0</td>\n",
       "      <td>1.0</td>\n",
       "      <td>3083.0</td>\n",
       "      <td>767.35</td>\n",
       "      <td>66.5</td>\n",
       "    </tr>\n",
       "  </tbody>\n",
       "</table>\n",
       "</div>"
      ],
      "text/plain": [
       "            Наименование товара          Артикул  Размер  Количество продаж  \\\n",
       "0  Блуза лён бежевый с вышивкой         60001071   146.0                1.0   \n",
       "1             Брюки лён голубые  брюкиленголубые   146.0                1.0   \n",
       "\n",
       "   Средняя цена продажи  Комиссия МП  Логистика  \n",
       "0                1832.0       472.02       63.0  \n",
       "1                3083.0       767.35       66.5  "
      ]
     },
     "execution_count": 7,
     "metadata": {},
     "output_type": "execute_result"
    }
   ],
   "source": [
    "pd.DataFrame(result)"
   ]
  }
 ],
 "metadata": {
  "kernelspec": {
   "display_name": "Python 3",
   "language": "python",
   "name": "python3"
  },
  "language_info": {
   "codemirror_mode": {
    "name": "ipython",
    "version": 3
   },
   "file_extension": ".py",
   "mimetype": "text/x-python",
   "name": "python",
   "nbconvert_exporter": "python",
   "pygments_lexer": "ipython3",
   "version": "3.12.10"
  }
 },
 "nbformat": 4,
 "nbformat_minor": 5
}
